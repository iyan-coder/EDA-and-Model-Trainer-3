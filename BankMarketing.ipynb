{
  "nbformat": 4,
  "nbformat_minor": 0,
  "metadata": {
    "colab": {
      "provenance": [],
      "authorship_tag": "ABX9TyMi3c1mzARFfbVV6sKXEfiv",
      "include_colab_link": true
    },
    "kernelspec": {
      "name": "python3",
      "display_name": "Python 3"
    },
    "language_info": {
      "name": "python"
    }
  },
  "cells": [
    {
      "cell_type": "markdown",
      "metadata": {
        "id": "view-in-github",
        "colab_type": "text"
      },
      "source": [
        "<a href=\"https://colab.research.google.com/github/iyan-coder/EDA-and-Model-Trainer-3/blob/main/BankMarketing.ipynb\" target=\"_parent\"><img src=\"https://colab.research.google.com/assets/colab-badge.svg\" alt=\"Open In Colab\"/></a>"
      ]
    },
    {
      "cell_type": "markdown",
      "source": [
        "# 🏦 Bank Marketing Dataset – README & Exploratory Data Analysis\n",
        "\n",
        "## 1. Problem Statement\n",
        "A Portuguese bank ran several **phone‑based direct‑marketing campaigns** to convince clients to subscribe to a term deposit.  \n",
        "Your task is to **predict whether a client will subscribe (`y`)** using the historic campaign data in **`bank.csv`**.\n",
        "\n",
        "Why it matters  \n",
        "- **Marketing efficiency** – call only the clients most likely to convert.  \n",
        "- **Customer experience** – avoid annoying customers with irrelevant calls.  \n",
        "- **Cost reduction** – fewer wasted minutes → lower outbound‑call costs.\n",
        "\n",
        "---\n",
        "\n",
        "## 2. Column Dictionary & Business Insight\n",
        "\n",
        "| Column | Type | What it Means (Business Angle) |\n",
        "|--------|------|--------------------------------|\n",
        "| `age` | numeric | Customer’s age in years. Often U‑shaped effect: middle‑aged clients may be more financially stable, retirees may have idle funds. |\n",
        "| `job` | categorical | Profession (e.g., *management*, *services*, *technician*). Relates to **income level** and financial literacy. |\n",
        "| `marital` | categorical | *married*, *single*, *divorced*. Life stage can affect saving goals. |\n",
        "| `education` | categorical | *primary*, *secondary*, *tertiary*, *unknown*. Higher education often ↗ adoption of financial products. |\n",
        "| `default` | categorical | Has credit in default? *yes/no*. Strong negative signal for new deposits. |\n",
        "| `balance` | numeric | Average yearly bank balance (EUR). Proxy for liquidity and trust in the bank. |\n",
        "| `housing` | categorical | Has a housing loan? Indicates existing liabilities. |\n",
        "| `loan` | categorical | Has personal loan? Similar to above; can reduce disposable income. |\n",
        "| `contact` | categorical | Contact channel (*cellular*, *telephone*, *unknown*). Campaigns via mobile often perform better. |\n",
        "| `day` | numeric | Last contact day of month (1–31). Not very predictive alone; combine with `month`. |\n",
        "| `month` | categorical | *jan … dec*. Strong seasonal pattern: e.g., **May** & **October** often see spikes. |\n",
        "| `duration` | numeric | Call length in seconds. ***Most predictive*** feature (longer calls → higher likelihood of “yes”) but beware: **leakage** if used in real‑time predictions. |\n",
        "| `campaign` | numeric | Number of contacts with this client during the campaign. Repeated calls may wear people out. |\n",
        "| `pdays` | numeric | Days passed since client was last contacted (−1 means *never*). Small value ⇒ recently called. |\n",
        "| `previous` | numeric | How many prior contacts in past campaigns. |\n",
        "| `poutcome` | categorical | Outcome of the **previous** campaign (*success*, *failure*, *other*, *unknown*). Historical success is a strong positive signal. |\n",
        "| `y` | target | *yes* if the client subscribed; otherwise *no*. **Imbalanced** (~11 % “yes”). |\n",
        "\n",
        "---\n"
      ],
      "metadata": {
        "id": "aEE5Y5eJeOGu"
      }
    },
    {
      "cell_type": "code",
      "execution_count": null,
      "metadata": {
        "id": "S9kY-dHadlmX"
      },
      "outputs": [],
      "source": [
        "import pandas as pd\n",
        "import numpy as np\n",
        "import matplotlib.pyplot as plt\n",
        "import seaborn as sns\n",
        "## Display all the columns of the dataframe\n",
        "pd.set_option('display.max_rows', 130)  # to view all 122 rows\n",
        "pd.set_option('display.max_columns', None)  # show all columns\n",
        "pd.set_option('display.width', 1000)  # avoid column wrapping\n",
        "\n",
        "%matplotlib inline\n",
        "import warnings\n",
        "warnings.filterwarnings(\"ignore\")"
      ]
    }
  ]
}